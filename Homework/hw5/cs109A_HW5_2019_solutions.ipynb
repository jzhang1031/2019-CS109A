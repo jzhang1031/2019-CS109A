{
 "cells": [
  {
   "cell_type": "markdown",
   "metadata": {},
   "source": [
    "\n",
    "# <img style=\"float: left; padding-right: 10px; width: 45px\" src=\"https://raw.githubusercontent.com/Harvard-IACS/2018-CS109A/master/content/styles/iacs.png\"> CS109A Introduction to Data Science\n",
    "\n",
    "## Homework 5: $k$-NN Classification, ROC, and PCA\n",
    "\n",
    "**Harvard University**<br/>\n",
    "**Fall 2019**<br/>\n",
    "**Instructors**: Pavlos Protopapas, Kevin Rader, and Chris Tanner\n",
    "\n",
    "<hr style=\"height:2pt\">\n",
    "\n"
   ]
  },
  {
   "cell_type": "code",
   "execution_count": 1,
   "metadata": {},
   "outputs": [
    {
     "data": {
      "text/html": [
       "<style>\n",
       "blockquote { background: #AEDE94; }\n",
       "h1 { \n",
       "    padding-top: 25px;\n",
       "    padding-bottom: 25px;\n",
       "    text-align: left; \n",
       "    padding-left: 10px;\n",
       "    background-color: #DDDDDD; \n",
       "    color: black;\n",
       "}\n",
       "h2 { \n",
       "    padding-top: 10px;\n",
       "    padding-bottom: 10px;\n",
       "    text-align: left; \n",
       "    padding-left: 5px;\n",
       "    background-color: #EEEEEE; \n",
       "    color: black;\n",
       "}\n",
       "\n",
       "div.exercise {\n",
       "\tbackground-color: #ffcccc;\n",
       "\tborder-color: #E9967A; \t\n",
       "\tborder-left: 5px solid #800080; \n",
       "\tpadding: 0.5em;\n",
       "}\n",
       "\n",
       "span.sub-q {\n",
       "\tfont-weight: bold;\n",
       "}\n",
       "div.theme {\n",
       "\tbackground-color: #DDDDDD;\n",
       "\tborder-color: #E9967A; \t\n",
       "\tborder-left: 5px solid #800080; \n",
       "\tpadding: 0.5em;\n",
       "\tfont-size: 18pt;\n",
       "}\n",
       "div.gc { \n",
       "\tbackground-color: #AEDE94;\n",
       "\tborder-color: #E9967A; \t \n",
       "\tborder-left: 5px solid #800080; \n",
       "\tpadding: 0.5em;\n",
       "\tfont-size: 12pt;\n",
       "}\n",
       "p.q1 { \n",
       "    padding-top: 5px;\n",
       "    padding-bottom: 5px;\n",
       "    text-align: left; \n",
       "    padding-left: 5px;\n",
       "    background-color: #EEEEEE; \n",
       "    color: black;\n",
       "}\n",
       "header {\n",
       "   padding-top: 35px;\n",
       "    padding-bottom: 35px;\n",
       "    text-align: left; \n",
       "    padding-left: 10px;\n",
       "    background-color: #DDDDDD; \n",
       "    color: black;\n",
       "}\n",
       "</style>\n",
       "\n"
      ],
      "text/plain": [
       "<IPython.core.display.HTML object>"
      ]
     },
     "execution_count": 1,
     "metadata": {},
     "output_type": "execute_result"
    }
   ],
   "source": [
    "#RUN THIS CELL \n",
    "import requests\n",
    "from IPython.core.display import HTML\n",
    "styles = requests.get(\"https://raw.githubusercontent.com/Harvard-IACS/2018-CS109A/master/content/styles/cs109.css\").text\n",
    "HTML(styles)"
   ]
  },
  {
   "cell_type": "markdown",
   "metadata": {},
   "source": [
    "### INSTRUCTIONS\n",
    "\n",
    "- To submit your assignment follow the instructions given in Canvas.\n",
    "- Restart the kernel and run the whole notebook again before you submit. \n",
    "- As much as possible, try and stick to the hints and functions we import at the top of the homework, as those are the ideas and tools the class supports and is aiming to teach. And if a problem specifies a particular library you're required to use that library, and possibly others from the import list.\n",
    "- Please use .head() when viewing data. Do not submit a notebook that is excessively long because output was not suppressed or otherwise limited."
   ]
  },
  {
   "cell_type": "code",
   "execution_count": 2,
   "metadata": {},
   "outputs": [],
   "source": [
    "import numpy as np\n",
    "import pandas as pd\n",
    "from scipy.stats import ttest_ind\n",
    "pd.set_option('display.max_columns', 25)\n",
    "\n",
    "from sklearn.linear_model import LinearRegression\n",
    "from sklearn.linear_model import LogisticRegression\n",
    "from sklearn.linear_model import LogisticRegressionCV\n",
    "from sklearn.linear_model import LassoCV\n",
    "\n",
    "from sklearn.neighbors import KNeighborsClassifier\n",
    "from sklearn.model_selection import cross_val_score\n",
    "from sklearn.metrics import accuracy_score\n",
    "from sklearn.model_selection import KFold\n",
    "from sklearn.preprocessing import MinMaxScaler\n",
    "from sklearn.model_selection import train_test_split\n",
    "from sklearn.decomposition import PCA\n",
    "from sklearn import metrics\n",
    "\n",
    "import matplotlib\n",
    "import matplotlib.pyplot as plt\n",
    "%matplotlib inline\n",
    "\n",
    "import statsmodels.api as sm\n",
    "from statsmodels.api import OLS\n",
    "\n",
    "import seaborn as sns\n",
    "sns.set()"
   ]
  },
  {
   "cell_type": "markdown",
   "metadata": {},
   "source": [
    "\n",
    "## Continuing Cancer Classification from Gene Expressions\n",
    "\n",
    "In this problem, we will continue to work with the 2-class (ALL vs. AML) cancer classification problem from homework 4. The dataset is provided in the file `data/hw4_enhance.csv` and is the same as the previous HW.  Recall: **0 indicates the ALL** class and **1 indicates the AML** class within `Cancer_type`, and columns 2-7130 contain expression levels of 7129 genes recorded from each tissue sample. \n",
    "\n",
    "In the following questions, we will handle the high dimensionality of this problem directly by applying Principal Component Analysis (PCA), and then use the resulting PCA-transformed in logistic regression and $k$-NN modeling."
   ]
  },
  {
   "cell_type": "markdown",
   "metadata": {},
   "source": [
    "<div class='exercise'><b> Question 1 [25 pts]: Baseline Modeling </b></div>\n",
    "\n",
    "First step is to split the observations into an approximate 80-20 train-test split.  Below is the same code from HW4 to do this for you (we again want to make sure everyone has the same splits). Use the training data set to answer the following questions:\n"
   ]
  },
  {
   "cell_type": "markdown",
   "metadata": {},
   "source": [
    "**First step is to split the observations into an approximate 80-20 train-test split. Below is some code to do this for you (we want to make sure everyone has the same splits). `Cancer_type` is again our target column.**"
   ]
  },
  {
   "cell_type": "code",
   "execution_count": 3,
   "metadata": {},
   "outputs": [],
   "source": [
    "np.random.seed(10)\n",
    "df = pd.read_csv('data/hw4_enhance.csv', index_col=0)\n",
    "\n",
    "X_train, X_test, y_train, y_test =train_test_split(df.loc[:, df.columns != 'Cancer_type'], \n",
    "                                                         df.Cancer_type, test_size=0.2, \n",
    "                                                         random_state = 109, \n",
    "                                                         stratify = df.Cancer_type)"
   ]
  },
  {
   "cell_type": "markdown",
   "metadata": {},
   "source": [
    "**1.1** Begin by normalizing all predictors just like you did in HW4.  Use these versions of the predictors throughout this assignment.\n",
    "\n",
    "**1.2** Fit an 'unregularized' multiple logistic regression model (set C=100000) with all the gene predictors from the data set (you did this in HW4).  Report the misclassification rate on both the train and test sets.\n",
    "\n",
    "**1.3** Use regularization to improve the predictions from the multiple logistic regression model. Specifically, use LASSO-like regularization and cross-validation to train the model on the training set (you did this in HW4).  Report the classification accuracy on both the train and test sets.\n",
    "\n",
    "**1.4** Use 5-fold cross-validation to select $k$ for a $k$-NN classification model based on the full predictor set.  Choose between `k = 1,2,5,10,20,50,100,200,500`. \n",
    "\n",
    "**1.5** Provide the confusion matrix for all 3 models above and report the false positive and false negative rates (all in the test set).  Briefly interpret what you notice.\n"
   ]
  },
  {
   "cell_type": "markdown",
   "metadata": {},
   "source": [
    "<hr>\n",
    "\n",
    "### Solutions"
   ]
  },
  {
   "cell_type": "markdown",
   "metadata": {},
   "source": [
    "**1.1 Begin by normalizing all predictors just like you did in HW4.  Use these versions of the predictors throughout this assignment.**"
   ]
  },
  {
   "cell_type": "code",
   "execution_count": 4,
   "metadata": {},
   "outputs": [],
   "source": [
    "# your code here\n",
    "\n",
    "min_vals = X_train.min()\n",
    "max_vals = X_train.max()\n",
    "\n",
    "X_train = (X_train - min_vals)/(max_vals - min_vals)\n",
    "X_test = (X_test - min_vals)/(max_vals - min_vals)"
   ]
  },
  {
   "cell_type": "markdown",
   "metadata": {},
   "source": [
    "**1.2 Fit an 'unregularized' multiple logistic regression model (set C=100000) with all the gene predictors from the data set (you did this in HW4).  Report the misclassification rate on both the train and test sets.**"
   ]
  },
  {
   "cell_type": "code",
   "execution_count": 5,
   "metadata": {},
   "outputs": [
    {
     "name": "stdout",
     "output_type": "stream",
     "text": [
      "Training set accuracy for multiple logistic regression =  1.0\n",
      "Test set accuracy for multiple logistic regression =  0.7814569536423841\n"
     ]
    }
   ],
   "source": [
    "# your code here\n",
    "\n",
    "# fitting multi regression model\n",
    "multi_regr = LogisticRegression(C=100000, solver = \"lbfgs\", max_iter=10000, random_state=109)\n",
    "multi_regr.fit(X_train, y_train)\n",
    "\n",
    "# predictions\n",
    "y_train_pred_multi = multi_regr.predict(X_train) \n",
    "y_test_pred_multi = multi_regr.predict(X_test)\n",
    "\n",
    "# accuracy\n",
    "train_score_multi = accuracy_score(y_train, y_train_pred_multi)\n",
    "test_score_multi = accuracy_score(y_test, y_test_pred_multi)\n",
    "\n",
    "print('Training set accuracy for multiple logistic regression = ', train_score_multi)\n",
    "print('Test set accuracy for multiple logistic regression = ', test_score_multi)"
   ]
  },
  {
   "cell_type": "markdown",
   "metadata": {},
   "source": [
    "**1.3 Use regularization to improve the predictions from the multiple logistic regression model. Specifically, use LASSO-like regularization and cross-validation to train the model on the training set (you did this in HW4).  eport the misclassification rate on both the train and test sets.**"
   ]
  },
  {
   "cell_type": "code",
   "execution_count": 6,
   "metadata": {},
   "outputs": [
    {
     "name": "stdout",
     "output_type": "stream",
     "text": [
      "Training set accuracy for multiple logistic regression =  0.9101497504159733\n",
      "Test set accuracy for multiple logistic regression =  0.8609271523178808\n"
     ]
    }
   ],
   "source": [
    "# your code here\n",
    "\n",
    "# fitting regularized multi regression model - L1 penalty\n",
    "# Any reason for using liblinear  - Use 5 fold CV\n",
    "logit_regr_lasso = LogisticRegressionCV( solver='liblinear', penalty='l1', cv=5)\n",
    "logit_regr_lasso.fit(X_train, y_train)\n",
    "\n",
    "# predictions\n",
    "y_train_pred_lasso = logit_regr_lasso.predict(X_train) \n",
    "y_test_pred_lasso = logit_regr_lasso.predict(X_test)\n",
    "\n",
    "# accuracy\n",
    "train_score_lasso = accuracy_score(y_train, y_train_pred_lasso)\n",
    "test_score_lasso = accuracy_score(y_test, y_test_pred_lasso)\n",
    "\n",
    "print('Training set accuracy for multiple logistic regression = ', train_score_lasso)\n",
    "print('Test set accuracy for multiple logistic regression = ', test_score_lasso)"
   ]
  },
  {
   "cell_type": "markdown",
   "metadata": {},
   "source": [
    "**1.4 Use 5-fold cross-validation to select $k$ for a $k$-NN classification model based on the full predictor set.  Choose between `ks = [1,2,3,4,5,7,9,10,15,25]`.  Report your chosen $k$, and report the misclassification rate on both the train and test sets for the model using your chosen $k$.**"
   ]
  },
  {
   "cell_type": "code",
   "execution_count": 7,
   "metadata": {},
   "outputs": [
    {
     "data": {
      "text/html": [
       "<div>\n",
       "<style scoped>\n",
       "    .dataframe tbody tr th:only-of-type {\n",
       "        vertical-align: middle;\n",
       "    }\n",
       "\n",
       "    .dataframe tbody tr th {\n",
       "        vertical-align: top;\n",
       "    }\n",
       "\n",
       "    .dataframe thead th {\n",
       "        text-align: right;\n",
       "    }\n",
       "</style>\n",
       "<table border=\"1\" class=\"dataframe\">\n",
       "  <thead>\n",
       "    <tr style=\"text-align: right;\">\n",
       "      <th></th>\n",
       "      <th>0</th>\n",
       "    </tr>\n",
       "  </thead>\n",
       "  <tbody>\n",
       "    <tr>\n",
       "      <th>1</th>\n",
       "      <td>0.815334</td>\n",
       "    </tr>\n",
       "    <tr>\n",
       "      <th>2</th>\n",
       "      <td>0.801945</td>\n",
       "    </tr>\n",
       "    <tr>\n",
       "      <th>3</th>\n",
       "      <td>0.865310</td>\n",
       "    </tr>\n",
       "    <tr>\n",
       "      <th>4</th>\n",
       "      <td>0.835391</td>\n",
       "    </tr>\n",
       "    <tr>\n",
       "      <th>5</th>\n",
       "      <td>0.856907</td>\n",
       "    </tr>\n",
       "    <tr>\n",
       "      <th>7</th>\n",
       "      <td>0.875172</td>\n",
       "    </tr>\n",
       "    <tr>\n",
       "      <th>9</th>\n",
       "      <td>0.871783</td>\n",
       "    </tr>\n",
       "    <tr>\n",
       "      <th>10</th>\n",
       "      <td>0.848614</td>\n",
       "    </tr>\n",
       "    <tr>\n",
       "      <th>15</th>\n",
       "      <td>0.831863</td>\n",
       "    </tr>\n",
       "    <tr>\n",
       "      <th>25</th>\n",
       "      <td>0.745468</td>\n",
       "    </tr>\n",
       "  </tbody>\n",
       "</table>\n",
       "</div>"
      ],
      "text/plain": [
       "           0\n",
       "1   0.815334\n",
       "2   0.801945\n",
       "3   0.865310\n",
       "4   0.835391\n",
       "5   0.856907\n",
       "7   0.875172\n",
       "9   0.871783\n",
       "10  0.848614\n",
       "15  0.831863\n",
       "25  0.745468"
      ]
     },
     "execution_count": 7,
     "metadata": {},
     "output_type": "execute_result"
    }
   ],
   "source": [
    "# your code here\n",
    "\n",
    "knn_scores = []\n",
    "ks = [1,2,3,4,5,7,9,10,15,25]\n",
    "\n",
    "for k in ks:\n",
    "    knn = KNeighborsClassifier(k)\n",
    "    knn_scores.append(np.mean(cross_val_score(knn, X_train, y_train, cv=5)))\n",
    "\n",
    "pd.DataFrame(knn_scores,ks)"
   ]
  },
  {
   "cell_type": "code",
   "execution_count": 8,
   "metadata": {},
   "outputs": [
    {
     "name": "stdout",
     "output_type": "stream",
     "text": [
      "Training set accuracy for knn(7) =  0.9018302828618968\n",
      "Test set accuracy for knn(7) =  0.8609271523178808\n"
     ]
    }
   ],
   "source": [
    "knn7 = KNeighborsClassifier(7)\n",
    "knn7.fit(X_train,y_train)\n",
    "\n",
    "# predictions\n",
    "y_train_pred_knn = knn7.predict(X_train) \n",
    "y_test_pred_knn = knn7.predict(X_test)\n",
    "\n",
    "# accuracy\n",
    "train_score_knn = accuracy_score(y_train, y_train_pred_knn)\n",
    "test_score_knn = accuracy_score(y_test, y_test_pred_knn)\n",
    "\n",
    "print('Training set accuracy for knn(7) = ', train_score_knn)\n",
    "print('Test set accuracy for knn(7) = ', test_score_knn)"
   ]
  },
  {
   "cell_type": "markdown",
   "metadata": {},
   "source": [
    "**1.5 Provide the confusion matrix for all 3 models above and report the false positive and false negative rates (all in the test set).  Briefly interpret what you notice.**"
   ]
  },
  {
   "cell_type": "code",
   "execution_count": 9,
   "metadata": {},
   "outputs": [
    {
     "name": "stdout",
     "output_type": "stream",
     "text": [
      "Confusion matrix for multiple logistic regression\n",
      "[[65 12]\n",
      " [21 53]]\n",
      "Confusion matrix for regularized logistic regression\n",
      "[[67 10]\n",
      " [11 63]]\n",
      "Confusion matrix for knn\n",
      "[[67 10]\n",
      " [11 63]]\n"
     ]
    }
   ],
   "source": [
    "# your code here\n",
    "\n",
    "print('Confusion matrix for multiple logistic regression')\n",
    "print(metrics.confusion_matrix(y_test, y_test_pred_multi))\n",
    "\n",
    "print('Confusion matrix for regularized logistic regression')\n",
    "print(metrics.confusion_matrix(y_test, y_test_pred_lasso))\n",
    "\n",
    "print('Confusion matrix for knn')\n",
    "print(metrics.confusion_matrix(y_test, y_test_pred_knn))"
   ]
  },
  {
   "cell_type": "markdown",
   "metadata": {},
   "source": [
    "For the full logistic regression model, there are 12 false positives and 21 false negatives, and for the LASSO-like logistic regression model, there are 10 false positives and 11 false negatives, and knn-7 has one more false negative compared to LASSO.  The full logistic regression model has a tougher time predicting what are truly 'positives' here, but actually underperforms in both classes compared to the other two models considered."
   ]
  },
  {
   "cell_type": "markdown",
   "metadata": {},
   "source": [
    "<div class='exercise'><b> Question 2 [25 pts]: Performing Principal Components Analysis </b></div>"
   ]
  },
  {
   "cell_type": "markdown",
   "metadata": {},
   "source": [
    "**2.1** Create the full PCA decomposition of `X_train` and apply the transformation to both `X_train` and `X_test`.  Report the shape of both of these.  What is the limiting factor for the maximum number of PCA components for this data set? \n",
    "\n",
    "**2.2** PCA is often solely used to help in visualizing high-dimensional problems.  Plot the scatterplot of the second PCA vector of train on the $Y$-axis and the first PCA vector of train on the $X$-axis (be sure to denote the classes via different color/markings).  In 2-3 sentences, explain why using the scatterplot of the top 2 PCA vectors is a useful approach to visualize a high dimensional classification problem.\n",
    "\n",
    "**2.3** Determine and report the variance explained in `X_train` based on the top 2 PCA vectors.  Determine and report how many PCA vectors are needed so that 90\\% of the variability in the predictors is explained, and create a plot to illustrate this result (Hint: look at cumulative explained variability vs. number of PCA components used).\n",
    "\n",
    "**2.4** Plot explained variability in the predictors on the $Y$-axis and the PCA component number on the $X$-axis. Select a reasonable value for the number of components that balances representativeness (of the predictors) with parsimony."
   ]
  },
  {
   "cell_type": "markdown",
   "metadata": {},
   "source": [
    "<hr>\n",
    "\n",
    "### Solutions"
   ]
  },
  {
   "cell_type": "markdown",
   "metadata": {},
   "source": [
    "**2.1 Create the full PCA decomposition of X_train and apply the transformation to both X_train and X_test. Report the shape of both of these. What is the limiting factor for the maximum number of PCA components for this data set?**"
   ]
  },
  {
   "cell_type": "code",
   "execution_count": 10,
   "metadata": {},
   "outputs": [
    {
     "data": {
      "text/html": [
       "<div>\n",
       "<style scoped>\n",
       "    .dataframe tbody tr th:only-of-type {\n",
       "        vertical-align: middle;\n",
       "    }\n",
       "\n",
       "    .dataframe tbody tr th {\n",
       "        vertical-align: top;\n",
       "    }\n",
       "\n",
       "    .dataframe thead th {\n",
       "        text-align: right;\n",
       "    }\n",
       "</style>\n",
       "<table border=\"1\" class=\"dataframe\">\n",
       "  <thead>\n",
       "    <tr style=\"text-align: right;\">\n",
       "      <th></th>\n",
       "      <th>AFFX-BioB-5_at</th>\n",
       "      <th>AFFX-BioB-M_at</th>\n",
       "      <th>AFFX-BioB-3_at</th>\n",
       "      <th>AFFX-BioC-5_at</th>\n",
       "      <th>AFFX-BioC-3_at</th>\n",
       "      <th>AFFX-BioDn-5_at</th>\n",
       "      <th>AFFX-BioDn-3_at</th>\n",
       "      <th>AFFX-CreX-5_at</th>\n",
       "      <th>AFFX-CreX-3_at</th>\n",
       "      <th>AFFX-BioB-5_st</th>\n",
       "      <th>AFFX-BioB-M_st</th>\n",
       "      <th>AFFX-BioB-3_st</th>\n",
       "      <th>...</th>\n",
       "      <th>U11863_at</th>\n",
       "      <th>U29175_at</th>\n",
       "      <th>U48730_at</th>\n",
       "      <th>U58516_at</th>\n",
       "      <th>U73738_at</th>\n",
       "      <th>X06956_at</th>\n",
       "      <th>X16699_at</th>\n",
       "      <th>X83863_at</th>\n",
       "      <th>Z17240_at</th>\n",
       "      <th>L49218_f_at</th>\n",
       "      <th>M71243_f_at</th>\n",
       "      <th>Z78285_f_at</th>\n",
       "    </tr>\n",
       "  </thead>\n",
       "  <tbody>\n",
       "    <tr>\n",
       "      <th>count</th>\n",
       "      <td>6.010000e+02</td>\n",
       "      <td>6.010000e+02</td>\n",
       "      <td>6.010000e+02</td>\n",
       "      <td>6.010000e+02</td>\n",
       "      <td>6.010000e+02</td>\n",
       "      <td>6.010000e+02</td>\n",
       "      <td>6.010000e+02</td>\n",
       "      <td>6.010000e+02</td>\n",
       "      <td>6.010000e+02</td>\n",
       "      <td>6.010000e+02</td>\n",
       "      <td>6.010000e+02</td>\n",
       "      <td>6.010000e+02</td>\n",
       "      <td>...</td>\n",
       "      <td>6.010000e+02</td>\n",
       "      <td>6.010000e+02</td>\n",
       "      <td>6.010000e+02</td>\n",
       "      <td>6.010000e+02</td>\n",
       "      <td>6.010000e+02</td>\n",
       "      <td>6.010000e+02</td>\n",
       "      <td>6.010000e+02</td>\n",
       "      <td>6.010000e+02</td>\n",
       "      <td>6.010000e+02</td>\n",
       "      <td>6.010000e+02</td>\n",
       "      <td>6.010000e+02</td>\n",
       "      <td>6.010000e+02</td>\n",
       "    </tr>\n",
       "    <tr>\n",
       "      <th>mean</th>\n",
       "      <td>2.964905e-16</td>\n",
       "      <td>-1.921185e-16</td>\n",
       "      <td>9.338066e-17</td>\n",
       "      <td>2.866075e-16</td>\n",
       "      <td>-3.630161e-16</td>\n",
       "      <td>-3.068353e-16</td>\n",
       "      <td>-1.906406e-16</td>\n",
       "      <td>4.747543e-16</td>\n",
       "      <td>3.596679e-16</td>\n",
       "      <td>5.281410e-16</td>\n",
       "      <td>-4.957095e-17</td>\n",
       "      <td>2.349757e-16</td>\n",
       "      <td>...</td>\n",
       "      <td>-3.790645e-16</td>\n",
       "      <td>-2.939043e-16</td>\n",
       "      <td>-1.956283e-16</td>\n",
       "      <td>-2.459670e-16</td>\n",
       "      <td>3.128391e-16</td>\n",
       "      <td>-7.204442e-18</td>\n",
       "      <td>-3.339906e-16</td>\n",
       "      <td>2.268476e-16</td>\n",
       "      <td>-1.721677e-16</td>\n",
       "      <td>8.368237e-17</td>\n",
       "      <td>-4.285719e-17</td>\n",
       "      <td>3.450743e-16</td>\n",
       "    </tr>\n",
       "    <tr>\n",
       "      <th>std</th>\n",
       "      <td>1.000833e+00</td>\n",
       "      <td>1.000833e+00</td>\n",
       "      <td>1.000833e+00</td>\n",
       "      <td>1.000833e+00</td>\n",
       "      <td>1.000833e+00</td>\n",
       "      <td>1.000833e+00</td>\n",
       "      <td>1.000833e+00</td>\n",
       "      <td>1.000833e+00</td>\n",
       "      <td>1.000833e+00</td>\n",
       "      <td>1.000833e+00</td>\n",
       "      <td>1.000833e+00</td>\n",
       "      <td>1.000833e+00</td>\n",
       "      <td>...</td>\n",
       "      <td>1.000833e+00</td>\n",
       "      <td>1.000833e+00</td>\n",
       "      <td>1.000833e+00</td>\n",
       "      <td>1.000833e+00</td>\n",
       "      <td>1.000833e+00</td>\n",
       "      <td>1.000833e+00</td>\n",
       "      <td>1.000833e+00</td>\n",
       "      <td>1.000833e+00</td>\n",
       "      <td>1.000833e+00</td>\n",
       "      <td>1.000833e+00</td>\n",
       "      <td>1.000833e+00</td>\n",
       "      <td>1.000833e+00</td>\n",
       "    </tr>\n",
       "    <tr>\n",
       "      <th>min</th>\n",
       "      <td>-4.570373e+00</td>\n",
       "      <td>-4.959110e+00</td>\n",
       "      <td>-3.236778e+00</td>\n",
       "      <td>-3.133268e+00</td>\n",
       "      <td>-4.370112e+00</td>\n",
       "      <td>-2.629677e+00</td>\n",
       "      <td>-3.819691e+00</td>\n",
       "      <td>-3.317173e+00</td>\n",
       "      <td>-4.839954e+00</td>\n",
       "      <td>-3.552995e+00</td>\n",
       "      <td>-3.704261e+00</td>\n",
       "      <td>-2.800073e+00</td>\n",
       "      <td>...</td>\n",
       "      <td>-3.035214e+00</td>\n",
       "      <td>-3.236052e+00</td>\n",
       "      <td>-4.018121e+00</td>\n",
       "      <td>-3.264515e+00</td>\n",
       "      <td>-2.963576e+00</td>\n",
       "      <td>-3.889263e+00</td>\n",
       "      <td>-3.586451e+00</td>\n",
       "      <td>-3.648457e+00</td>\n",
       "      <td>-2.669117e+00</td>\n",
       "      <td>-3.096615e+00</td>\n",
       "      <td>-3.475253e+00</td>\n",
       "      <td>-3.005005e+00</td>\n",
       "    </tr>\n",
       "    <tr>\n",
       "      <th>25%</th>\n",
       "      <td>-6.262139e-01</td>\n",
       "      <td>-5.816676e-01</td>\n",
       "      <td>-5.854528e-01</td>\n",
       "      <td>-6.133846e-01</td>\n",
       "      <td>-6.278169e-01</td>\n",
       "      <td>-6.214191e-01</td>\n",
       "      <td>-5.878085e-01</td>\n",
       "      <td>-7.019759e-01</td>\n",
       "      <td>-5.472234e-01</td>\n",
       "      <td>-5.979849e-01</td>\n",
       "      <td>-5.345481e-01</td>\n",
       "      <td>-6.299041e-01</td>\n",
       "      <td>...</td>\n",
       "      <td>-6.296126e-01</td>\n",
       "      <td>-6.368791e-01</td>\n",
       "      <td>-5.690696e-01</td>\n",
       "      <td>-6.571205e-01</td>\n",
       "      <td>-6.098184e-01</td>\n",
       "      <td>-5.650560e-01</td>\n",
       "      <td>-5.148769e-01</td>\n",
       "      <td>-6.740868e-01</td>\n",
       "      <td>-6.503100e-01</td>\n",
       "      <td>-5.765545e-01</td>\n",
       "      <td>-5.945330e-01</td>\n",
       "      <td>-6.844021e-01</td>\n",
       "    </tr>\n",
       "    <tr>\n",
       "      <th>50%</th>\n",
       "      <td>6.291073e-02</td>\n",
       "      <td>7.965581e-02</td>\n",
       "      <td>-2.582551e-02</td>\n",
       "      <td>-1.204226e-02</td>\n",
       "      <td>8.682020e-02</td>\n",
       "      <td>-1.065262e-01</td>\n",
       "      <td>-2.888872e-02</td>\n",
       "      <td>7.920189e-02</td>\n",
       "      <td>8.819168e-02</td>\n",
       "      <td>1.265591e-02</td>\n",
       "      <td>1.187794e-01</td>\n",
       "      <td>7.704837e-02</td>\n",
       "      <td>...</td>\n",
       "      <td>-6.930976e-02</td>\n",
       "      <td>-1.673876e-02</td>\n",
       "      <td>-5.159025e-02</td>\n",
       "      <td>-5.215029e-02</td>\n",
       "      <td>3.784034e-02</td>\n",
       "      <td>-6.865438e-02</td>\n",
       "      <td>1.407065e-01</td>\n",
       "      <td>-8.569185e-02</td>\n",
       "      <td>-8.932283e-02</td>\n",
       "      <td>-9.789289e-03</td>\n",
       "      <td>-1.058029e-01</td>\n",
       "      <td>-1.444010e-02</td>\n",
       "    </tr>\n",
       "    <tr>\n",
       "      <th>75%</th>\n",
       "      <td>6.517121e-01</td>\n",
       "      <td>6.378469e-01</td>\n",
       "      <td>4.878221e-01</td>\n",
       "      <td>5.992771e-01</td>\n",
       "      <td>6.419955e-01</td>\n",
       "      <td>5.858109e-01</td>\n",
       "      <td>6.529576e-01</td>\n",
       "      <td>7.003272e-01</td>\n",
       "      <td>6.632805e-01</td>\n",
       "      <td>5.328147e-01</td>\n",
       "      <td>6.477601e-01</td>\n",
       "      <td>6.921257e-01</td>\n",
       "      <td>...</td>\n",
       "      <td>6.777492e-01</td>\n",
       "      <td>6.275691e-01</td>\n",
       "      <td>6.141623e-01</td>\n",
       "      <td>7.006727e-01</td>\n",
       "      <td>6.032079e-01</td>\n",
       "      <td>5.070604e-01</td>\n",
       "      <td>6.537007e-01</td>\n",
       "      <td>5.739112e-01</td>\n",
       "      <td>5.205509e-01</td>\n",
       "      <td>6.327527e-01</td>\n",
       "      <td>6.234525e-01</td>\n",
       "      <td>6.210007e-01</td>\n",
       "    </tr>\n",
       "    <tr>\n",
       "      <th>max</th>\n",
       "      <td>3.711081e+00</td>\n",
       "      <td>2.893450e+00</td>\n",
       "      <td>3.476187e+00</td>\n",
       "      <td>4.007661e+00</td>\n",
       "      <td>2.692999e+00</td>\n",
       "      <td>3.883399e+00</td>\n",
       "      <td>2.637033e+00</td>\n",
       "      <td>2.774772e+00</td>\n",
       "      <td>2.950490e+00</td>\n",
       "      <td>3.508377e+00</td>\n",
       "      <td>2.543571e+00</td>\n",
       "      <td>3.725361e+00</td>\n",
       "      <td>...</td>\n",
       "      <td>2.615610e+00</td>\n",
       "      <td>3.539761e+00</td>\n",
       "      <td>3.178823e+00</td>\n",
       "      <td>3.448861e+00</td>\n",
       "      <td>3.136587e+00</td>\n",
       "      <td>6.042372e+00</td>\n",
       "      <td>2.482522e+00</td>\n",
       "      <td>3.591428e+00</td>\n",
       "      <td>4.534747e+00</td>\n",
       "      <td>3.114761e+00</td>\n",
       "      <td>2.991783e+00</td>\n",
       "      <td>3.507011e+00</td>\n",
       "    </tr>\n",
       "  </tbody>\n",
       "</table>\n",
       "<p>8 rows × 7129 columns</p>\n",
       "</div>"
      ],
      "text/plain": [
       "       AFFX-BioB-5_at  AFFX-BioB-M_at  AFFX-BioB-3_at  AFFX-BioC-5_at  \\\n",
       "count    6.010000e+02    6.010000e+02    6.010000e+02    6.010000e+02   \n",
       "mean     2.964905e-16   -1.921185e-16    9.338066e-17    2.866075e-16   \n",
       "std      1.000833e+00    1.000833e+00    1.000833e+00    1.000833e+00   \n",
       "min     -4.570373e+00   -4.959110e+00   -3.236778e+00   -3.133268e+00   \n",
       "25%     -6.262139e-01   -5.816676e-01   -5.854528e-01   -6.133846e-01   \n",
       "50%      6.291073e-02    7.965581e-02   -2.582551e-02   -1.204226e-02   \n",
       "75%      6.517121e-01    6.378469e-01    4.878221e-01    5.992771e-01   \n",
       "max      3.711081e+00    2.893450e+00    3.476187e+00    4.007661e+00   \n",
       "\n",
       "       AFFX-BioC-3_at  AFFX-BioDn-5_at  AFFX-BioDn-3_at  AFFX-CreX-5_at  \\\n",
       "count    6.010000e+02     6.010000e+02     6.010000e+02    6.010000e+02   \n",
       "mean    -3.630161e-16    -3.068353e-16    -1.906406e-16    4.747543e-16   \n",
       "std      1.000833e+00     1.000833e+00     1.000833e+00    1.000833e+00   \n",
       "min     -4.370112e+00    -2.629677e+00    -3.819691e+00   -3.317173e+00   \n",
       "25%     -6.278169e-01    -6.214191e-01    -5.878085e-01   -7.019759e-01   \n",
       "50%      8.682020e-02    -1.065262e-01    -2.888872e-02    7.920189e-02   \n",
       "75%      6.419955e-01     5.858109e-01     6.529576e-01    7.003272e-01   \n",
       "max      2.692999e+00     3.883399e+00     2.637033e+00    2.774772e+00   \n",
       "\n",
       "       AFFX-CreX-3_at  AFFX-BioB-5_st  AFFX-BioB-M_st  AFFX-BioB-3_st  ...  \\\n",
       "count    6.010000e+02    6.010000e+02    6.010000e+02    6.010000e+02  ...   \n",
       "mean     3.596679e-16    5.281410e-16   -4.957095e-17    2.349757e-16  ...   \n",
       "std      1.000833e+00    1.000833e+00    1.000833e+00    1.000833e+00  ...   \n",
       "min     -4.839954e+00   -3.552995e+00   -3.704261e+00   -2.800073e+00  ...   \n",
       "25%     -5.472234e-01   -5.979849e-01   -5.345481e-01   -6.299041e-01  ...   \n",
       "50%      8.819168e-02    1.265591e-02    1.187794e-01    7.704837e-02  ...   \n",
       "75%      6.632805e-01    5.328147e-01    6.477601e-01    6.921257e-01  ...   \n",
       "max      2.950490e+00    3.508377e+00    2.543571e+00    3.725361e+00  ...   \n",
       "\n",
       "          U11863_at     U29175_at     U48730_at     U58516_at     U73738_at  \\\n",
       "count  6.010000e+02  6.010000e+02  6.010000e+02  6.010000e+02  6.010000e+02   \n",
       "mean  -3.790645e-16 -2.939043e-16 -1.956283e-16 -2.459670e-16  3.128391e-16   \n",
       "std    1.000833e+00  1.000833e+00  1.000833e+00  1.000833e+00  1.000833e+00   \n",
       "min   -3.035214e+00 -3.236052e+00 -4.018121e+00 -3.264515e+00 -2.963576e+00   \n",
       "25%   -6.296126e-01 -6.368791e-01 -5.690696e-01 -6.571205e-01 -6.098184e-01   \n",
       "50%   -6.930976e-02 -1.673876e-02 -5.159025e-02 -5.215029e-02  3.784034e-02   \n",
       "75%    6.777492e-01  6.275691e-01  6.141623e-01  7.006727e-01  6.032079e-01   \n",
       "max    2.615610e+00  3.539761e+00  3.178823e+00  3.448861e+00  3.136587e+00   \n",
       "\n",
       "          X06956_at     X16699_at     X83863_at     Z17240_at   L49218_f_at  \\\n",
       "count  6.010000e+02  6.010000e+02  6.010000e+02  6.010000e+02  6.010000e+02   \n",
       "mean  -7.204442e-18 -3.339906e-16  2.268476e-16 -1.721677e-16  8.368237e-17   \n",
       "std    1.000833e+00  1.000833e+00  1.000833e+00  1.000833e+00  1.000833e+00   \n",
       "min   -3.889263e+00 -3.586451e+00 -3.648457e+00 -2.669117e+00 -3.096615e+00   \n",
       "25%   -5.650560e-01 -5.148769e-01 -6.740868e-01 -6.503100e-01 -5.765545e-01   \n",
       "50%   -6.865438e-02  1.407065e-01 -8.569185e-02 -8.932283e-02 -9.789289e-03   \n",
       "75%    5.070604e-01  6.537007e-01  5.739112e-01  5.205509e-01  6.327527e-01   \n",
       "max    6.042372e+00  2.482522e+00  3.591428e+00  4.534747e+00  3.114761e+00   \n",
       "\n",
       "        M71243_f_at   Z78285_f_at  \n",
       "count  6.010000e+02  6.010000e+02  \n",
       "mean  -4.285719e-17  3.450743e-16  \n",
       "std    1.000833e+00  1.000833e+00  \n",
       "min   -3.475253e+00 -3.005005e+00  \n",
       "25%   -5.945330e-01 -6.844021e-01  \n",
       "50%   -1.058029e-01 -1.444010e-02  \n",
       "75%    6.234525e-01  6.210007e-01  \n",
       "max    2.991783e+00  3.507011e+00  \n",
       "\n",
       "[8 rows x 7129 columns]"
      ]
     },
     "metadata": {},
     "output_type": "display_data"
    },
    {
     "name": "stdout",
     "output_type": "stream",
     "text": [
      "(601, 7129)\n",
      "pca shape in train: (601, 601) and pca shape in test: (151, 601)\n"
     ]
    }
   ],
   "source": [
    "# your code here\n",
    "\n",
    "# standardizing before PCA\n",
    "from sklearn.preprocessing import StandardScaler\n",
    "\n",
    "scaler = StandardScaler().fit(X_train)\n",
    "X_train = pd.DataFrame(scaler.transform(X_train), columns=X_train.columns)\n",
    "X_test = pd.DataFrame(scaler.transform(X_test), columns=X_test.columns)\n",
    "display(X_train.describe())\n",
    "\n",
    "pca = PCA().fit(X_train)\n",
    "pca_xtrain = pca.transform(X_train)\n",
    "pca_xtest = pca.transform(X_test)\n",
    "\n",
    "print(pca.components_.shape)\n",
    "print(\"pca shape in train:\", pca_xtrain.shape, \"and pca shape in test:\", pca_xtest.shape)"
   ]
  },
  {
   "cell_type": "markdown",
   "metadata": {},
   "source": [
    "*Your answer here*\n",
    "\n",
    "The limiting factor is the number of rows (601). The number of PCA components is 601 even though there are a lot more columns. Number of PCA components = min(#rows, #columns)"
   ]
  },
  {
   "cell_type": "markdown",
   "metadata": {},
   "source": [
    "**2.2 PCA is often solely used to help in visualizing high-dimensional problems. Plot the scatterplot of the second PCA vector on the  𝑌 -axis and the first PCA vector on the  𝑋 -axis (be sure to denote the classes via different color/markings). In 2-3 sentences, explain why using the scatterplot of the top 2 PCA vectors is a useful approach to visualize a high dimensional classification problem.**"
   ]
  },
  {
   "cell_type": "code",
   "execution_count": 11,
   "metadata": {},
   "outputs": [
    {
     "name": "stdout",
     "output_type": "stream",
     "text": [
      "(601, 3)\n"
     ]
    },
    {
     "data": {
      "text/html": [
       "<div>\n",
       "<style scoped>\n",
       "    .dataframe tbody tr th:only-of-type {\n",
       "        vertical-align: middle;\n",
       "    }\n",
       "\n",
       "    .dataframe tbody tr th {\n",
       "        vertical-align: top;\n",
       "    }\n",
       "\n",
       "    .dataframe thead th {\n",
       "        text-align: right;\n",
       "    }\n",
       "</style>\n",
       "<table border=\"1\" class=\"dataframe\">\n",
       "  <thead>\n",
       "    <tr style=\"text-align: right;\">\n",
       "      <th></th>\n",
       "      <th>PCA1</th>\n",
       "      <th>PCA2</th>\n",
       "      <th>Cancer_type</th>\n",
       "    </tr>\n",
       "  </thead>\n",
       "  <tbody>\n",
       "    <tr>\n",
       "      <th>0</th>\n",
       "      <td>-3.973727</td>\n",
       "      <td>-2.520476</td>\n",
       "      <td>1.0</td>\n",
       "    </tr>\n",
       "    <tr>\n",
       "      <th>1</th>\n",
       "      <td>-12.846391</td>\n",
       "      <td>-13.730848</td>\n",
       "      <td>1.0</td>\n",
       "    </tr>\n",
       "    <tr>\n",
       "      <th>2</th>\n",
       "      <td>-14.528682</td>\n",
       "      <td>-16.687931</td>\n",
       "      <td>1.0</td>\n",
       "    </tr>\n",
       "    <tr>\n",
       "      <th>3</th>\n",
       "      <td>6.946585</td>\n",
       "      <td>-15.469188</td>\n",
       "      <td>1.0</td>\n",
       "    </tr>\n",
       "    <tr>\n",
       "      <th>4</th>\n",
       "      <td>0.893353</td>\n",
       "      <td>-14.311994</td>\n",
       "      <td>1.0</td>\n",
       "    </tr>\n",
       "  </tbody>\n",
       "</table>\n",
       "</div>"
      ],
      "text/plain": [
       "        PCA1       PCA2  Cancer_type\n",
       "0  -3.973727  -2.520476          1.0\n",
       "1 -12.846391 -13.730848          1.0\n",
       "2 -14.528682 -16.687931          1.0\n",
       "3   6.946585 -15.469188          1.0\n",
       "4   0.893353 -14.311994          1.0"
      ]
     },
     "metadata": {},
     "output_type": "display_data"
    },
    {
     "data": {
      "image/png": "[encoded data removed]",
      "text/plain": [
       "<Figure size 720x360 with 1 Axes>"
      ]
     },
     "metadata": {
      "needs_background": "light"
     },
     "output_type": "display_data"
    }
   ],
   "source": [
    "# your code here\n",
    "\n",
    "# generating scatter plot\n",
    "pca_df = pd.DataFrame(pca_xtrain[:,0:2], columns=['PCA1', 'PCA2'])\n",
    "pca_df['Cancer_type'] = y_train.values\n",
    "\n",
    "print(pca_df.shape)\n",
    "display(pca_df.head())\n",
    "\n",
    "# plotting 2 PCs\n",
    "fig, ax = plt.subplots(figsize=(10,5))\n",
    "type_0 = pca_df[pca_df['Cancer_type'] == 0]\n",
    "type_1 = pca_df[pca_df['Cancer_type'] == 1]\n",
    "ax.plot(type_0['PCA1'], type_0['PCA2'],  'o', color='orange', label='Cancer Type 0')\n",
    "ax.plot(type_1['PCA1'], type_1['PCA2'],  'o', color='purple', label='Cancer Type 1')\n",
    "ax.set_title('Scatter plot of top 2 components of different types of cancer data')\n",
    "ax.legend();"
   ]
  },
  {
   "cell_type": "markdown",
   "metadata": {},
   "source": [
    "*your answer here*\n",
    "\n",
    "2-dimensional PCA is a useful visualization because: \n",
    "\n",
    "1. You can't plot a high-dimensional space in the same dimensions\n",
    "2. You can see whether the classes are separable in 2-dimensions to get a sense of what it would be like in higher dimensions\n",
    "3. The first 2 components may be a good approximation for the data (if they explain a decent proportion of the variance).\n",
    "4. In a classification problem, we can see if the classes are somewhat separable or clustered together in 2-dimensions to gauge whether the classes are perhaps separable in general"
   ]
  },
  {
   "cell_type": "markdown",
   "metadata": {},
   "source": [
    "**2.3 Determine and report the variance explained in `X_train` based on the top 2 PCA vectors.  Determine and report how many PCA vectors are needed so that 90\\% of the variability in the predictors is explained, and create a plot to illustrate this result (Hint: look at cumulative explained variability vs. number of PCA components used).**"
   ]
  },
  {
   "cell_type": "code",
   "execution_count": 12,
   "metadata": {},
   "outputs": [
    {
     "name": "stdout",
     "output_type": "stream",
     "text": [
      "Variance explained: 0.11219678772764466\n",
      "number of components that explain at least 90% of the variance= 233\n"
     ]
    },
    {
     "data": {
      "image/png": "[encoded data removed]",
      "text/plain": [
       "<Figure size 1152x576 with 1 Axes>"
      ]
     },
     "metadata": {
      "needs_background": "light"
     },
     "output_type": "display_data"
    }
   ],
   "source": [
    "# your code here\n",
    "\n",
    "print( \"Variance explained:\", np.sum(pca.explained_variance_ratio_[0:2]))\n",
    "\n",
    "# finding top 2 components\n",
    "var_explained = []\n",
    "total_comp = 250\n",
    "pca = PCA(n_components = total_comp).fit(X_train)\n",
    "\n",
    "fig, ax = plt.subplots(figsize=(16,8))\n",
    "ax.plot(range(1, total_comp+1), np.cumsum(pca.explained_variance_ratio_), 'o-')\n",
    "ax.axhline(0.9, linestyle='--', color='orange')\n",
    "ax.set_ylim(0,1)\n",
    "ax.set_xlabel('number of components')\n",
    "ax.set_ylabel('variance explained')\n",
    "ax.set_title('Cumulative variance explained',fontsize=15)\n",
    "\n",
    "print(\"number of components that explain at least 90% of the variance=\",\\\n",
    "    len(np.where(np.cumsum(pca.explained_variance_ratio_)<=0.9)[0])+1)"
   ]
  },
  {
   "cell_type": "markdown",
   "metadata": {},
   "source": [
    "**2.4 Plot explained variability in the predictors on the  𝑌 -axis and the PCA component number on the 𝑋 -axis. Select a reasonable value for the number of components that balances representativeness (of the predictors) with parsimony.**"
   ]
  },
  {
   "cell_type": "code",
   "execution_count": 13,
   "metadata": {},
   "outputs": [
    {
     "name": "stdout",
     "output_type": "stream",
     "text": [
      "Number of principal components chosen: 16\n"
     ]
    },
    {
     "data": {
      "image/png": "[encoded data removed]",
      "text/plain": [
       "<Figure size 864x432 with 1 Axes>"
      ]
     },
     "metadata": {
      "needs_background": "light"
     },
     "output_type": "display_data"
    }
   ],
   "source": [
    "#your code here\n",
    "\n",
    "# choosing PCs that explain more than 0.01 of the variance\n",
    "chosen = np.where(pca.explained_variance_ratio_ < 1e-2)[0][0] - 1\n",
    "print('Number of principal components chosen: {}'.format(chosen))\n",
    "\n",
    "fig, ax = plt.subplots(figsize=(12,6))\n",
    "ax.scatter(range(1, len(pca.explained_variance_ratio_)+1), pca.explained_variance_ratio_)\n",
    "ax.set_xlabel('index of components')\n",
    "ax.set_ylabel('variance explained')\n",
    "ax.set_title('Variance explained by each component',fontsize=15)\n",
    "ax.axvline(chosen, linestyle='--', label='chosen', color='orange')\n",
    "ax.legend();"
   ]
  },
  {
   "cell_type": "markdown",
   "metadata": {},
   "source": [
    "The above is one reasonable way of choosing a reasonable number of principal components (based on how much of the variance they explain). If they explain greater than 0.01 of the variance, they are chosen."
   ]
  },
  {
   "cell_type": "markdown",
   "metadata": {},
   "source": [
    "<div class='exercise'><b> Question 3 [25 pts]: Principal Components Regression (PCR) </b></div>\n",
    "\n",
    "**3.1** Fit three separate Logistic Regression models using principal components as the predictors: (1) with just the first 2 PCA vectors, (2) with the number of component vectors your chose from 2.4 above, and (3) with the number of components that explain at least 90% of the variability in the predictor set. How do the classification accuracy values on both the training and test sets compare with the models fit in Question 1?\n",
    "\n",
    "**3.2** Use cross-validation to determine the best number of principal components. Try out the 3 values from the previous sub-part and optionally include other values as well. For the best performing model according to cross-validation, interpret what the model says about the relationship between `M31523_at` and `Cancer_type`.\n",
    "\n",
    "**3.3** Another way to evaluate models in a classification setting is through an Area-under-the-ROC-Curve (AUC). Briefly explain what the AUC and the ROC are trying to do and how this approach differs from evaluating models based on misclassification rate (as you have done thus far in this problem set).\n",
    "\n",
    "**3.4** Evaluate all 6 predictive models (7 if you optionally found a better number of principal components in 3.2) seen in problems 1 and 3 via Area-under-the-ROC-Curve (AUC) on the test set. For the model with the best AUC, plot the ROC. Decide an appropriate strategy for breaking ties, if there are any. Briefly interpret your plot.\n",
    "\n",
    "**3.5** Based on AUC, is there one clear stand-out winner or are a lot of models similar in prediction?  If you were to predict real cancer patients, how would use these models to predict cancer type?"
   ]
  },
  {
   "cell_type": "markdown",
   "metadata": {},
   "source": [
    "<hr>\n",
    "\n",
    "### Solutions"
   ]
  },
  {
   "cell_type": "markdown",
   "metadata": {},
   "source": [
    "**3.1 Fit three separate Logistic Regression models using principal components as the predictors: (1) with just the first 2 PCA vectors, (2) with the number of component vectors your chose from 2.4 above, and (3) with the number of components that explain at least 90% of the variability in the predictor set.  How do the classification accuracy values on both the training and test sets compare with the models fit in Question 1?**"
   ]
  },
  {
   "cell_type": "code",
   "execution_count": 14,
   "metadata": {},
   "outputs": [
    {
     "data": {
      "text/html": [
       "<div>\n",
       "<style scoped>\n",
       "    .dataframe tbody tr th:only-of-type {\n",
       "        vertical-align: middle;\n",
       "    }\n",
       "\n",
       "    .dataframe tbody tr th {\n",
       "        vertical-align: top;\n",
       "    }\n",
       "\n",
       "    .dataframe thead th {\n",
       "        text-align: right;\n",
       "    }\n",
       "</style>\n",
       "<table border=\"1\" class=\"dataframe\">\n",
       "  <thead>\n",
       "    <tr style=\"text-align: right;\">\n",
       "      <th></th>\n",
       "      <th>Train Accuracy</th>\n",
       "      <th>Test Accuracy</th>\n",
       "    </tr>\n",
       "  </thead>\n",
       "  <tbody>\n",
       "    <tr>\n",
       "      <th>Multiple Logistic Regression</th>\n",
       "      <td>1.000000</td>\n",
       "      <td>0.781457</td>\n",
       "    </tr>\n",
       "    <tr>\n",
       "      <th>Regularized Logistic Regression</th>\n",
       "      <td>0.910150</td>\n",
       "      <td>0.860927</td>\n",
       "    </tr>\n",
       "    <tr>\n",
       "      <th>kNN</th>\n",
       "      <td>0.901830</td>\n",
       "      <td>0.860927</td>\n",
       "    </tr>\n",
       "    <tr>\n",
       "      <th>2 components PCA</th>\n",
       "      <td>0.783694</td>\n",
       "      <td>0.794702</td>\n",
       "    </tr>\n",
       "    <tr>\n",
       "      <th>16 components PCA</th>\n",
       "      <td>0.891847</td>\n",
       "      <td>0.860927</td>\n",
       "    </tr>\n",
       "    <tr>\n",
       "      <th>232 components PCA</th>\n",
       "      <td>1.000000</td>\n",
       "      <td>0.741722</td>\n",
       "    </tr>\n",
       "  </tbody>\n",
       "</table>\n",
       "</div>"
      ],
      "text/plain": [
       "                                 Train Accuracy  Test Accuracy\n",
       "Multiple Logistic Regression           1.000000       0.781457\n",
       "Regularized Logistic Regression        0.910150       0.860927\n",
       "kNN                                    0.901830       0.860927\n",
       "2 components PCA                       0.783694       0.794702\n",
       "16 components PCA                      0.891847       0.860927\n",
       "232 components PCA                     1.000000       0.741722"
      ]
     },
     "execution_count": 14,
     "metadata": {},
     "output_type": "execute_result"
    }
   ],
   "source": [
    "# your code here\n",
    "\n",
    "components = [2, chosen, 232]\n",
    "models = [multi_regr, logit_regr_lasso, knn7]\n",
    "preds = [y_test_pred_multi, y_test_pred_lasso, y_test_pred_knn]\n",
    "scores = [[train_score_multi, test_score_multi], [train_score_lasso, test_score_lasso], \n",
    "          [train_score_knn, test_score_knn]]\n",
    "\n",
    "for i, component in enumerate(components):\n",
    "    pca = PCA(n_components = component).fit(X_train)\n",
    "    \n",
    "    X_train_pca = pca.transform(X_train)\n",
    "    X_test_pca = pca.transform(X_test)\n",
    "    \n",
    "    logreg_pca = LogisticRegression(C=100000, fit_intercept=False, solver='lbfgs', max_iter=10000)\n",
    "    logreg_pca.fit(X_train_pca, y_train)\n",
    "    \n",
    "    y_train_pred_logreg_pca = logreg_pca.predict(X_train_pca)\n",
    "    y_test_pred_logreg_pca = logreg_pca.predict(X_test_pca)\n",
    "    \n",
    "    # append the model to the list of models\n",
    "    models.append(logreg_pca)\n",
    "    preds.append(y_test_pred_logreg_pca)\n",
    "\n",
    "    train_score = accuracy_score(y_train, y_train_pred_logreg_pca)\n",
    "    test_score = accuracy_score(y_test, y_test_pred_logreg_pca)\n",
    "    \n",
    "    scores.append([train_score, test_score])\n",
    "\n",
    "names = ['Multiple Logistic Regression', 'Regularized Logistic Regression', 'kNN',\n",
    "         '2 components PCA', '{} components PCA'.format(chosen), '232 components PCA',]\n",
    "\n",
    "df_res = pd.DataFrame(scores, index=names, columns=['Train Accuracy', 'Test Accuracy'])\n",
    "df_res"
   ]
  },
  {
   "cell_type": "markdown",
   "metadata": {},
   "source": [
    "*your answer here*\n",
    "\n",
    "- kNN, Regularized Logistic Regression and 16 component PCA are similar\n",
    "- The model with 16 principal components does similarly on the training and test sets and does better than an unregularized model that is fit on the entire training set.\n",
    "- The model with 232 parameters is overfit, and has a performance comparable with the unregularized model.\n",
    "- The model with 2 components actually does reasonably well on the test set\n",
    "- The regularized logistic regression model on all the predictors (from question 1) is the best model"
   ]
  },
  {
   "cell_type": "markdown",
   "metadata": {},
   "source": [
    "**3.2 Use cross-validation to determine the best number of principal components. Try out the 3 values from the previous sub-part and optionally include other values as well. For the best performing model according to cross-validation, interpret what the model says about the relationship between `M31523_at` and `Cancer_type`**."
   ]
  },
  {
   "cell_type": "code",
   "execution_count": 15,
   "metadata": {},
   "outputs": [
    {
     "data": {
      "text/html": [
       "<div>\n",
       "<style scoped>\n",
       "    .dataframe tbody tr th:only-of-type {\n",
       "        vertical-align: middle;\n",
       "    }\n",
       "\n",
       "    .dataframe tbody tr th {\n",
       "        vertical-align: top;\n",
       "    }\n",
       "\n",
       "    .dataframe thead th {\n",
       "        text-align: right;\n",
       "    }\n",
       "</style>\n",
       "<table border=\"1\" class=\"dataframe\">\n",
       "  <thead>\n",
       "    <tr style=\"text-align: right;\">\n",
       "      <th></th>\n",
       "      <th>CV Score</th>\n",
       "    </tr>\n",
       "  </thead>\n",
       "  <tbody>\n",
       "    <tr>\n",
       "      <th>2 components PCA</th>\n",
       "      <td>0.771831</td>\n",
       "    </tr>\n",
       "    <tr>\n",
       "      <th>16 components PCA</th>\n",
       "      <td>0.880242</td>\n",
       "    </tr>\n",
       "    <tr>\n",
       "      <th>232 components PCA</th>\n",
       "      <td>0.745524</td>\n",
       "    </tr>\n",
       "  </tbody>\n",
       "</table>\n",
       "</div>"
      ],
      "text/plain": [
       "                    CV Score\n",
       "2 components PCA    0.771831\n",
       "16 components PCA   0.880242\n",
       "232 components PCA  0.745524"
      ]
     },
     "execution_count": 15,
     "metadata": {},
     "output_type": "execute_result"
    }
   ],
   "source": [
    "# your code here\n",
    "\n",
    "cv_scores = []\n",
    "pcs = [2, chosen, 232]\n",
    "\n",
    "for pc in pcs:\n",
    "    pca = PCA(n_components = pc).fit(X_train)\n",
    "    \n",
    "    X_train_pca = pca.transform(X_train)\n",
    "    X_test_pca = pca.transform(X_test)\n",
    "    \n",
    "    logreg_pca = LogisticRegression(C=100000, fit_intercept=False, solver='lbfgs', max_iter=10000)\n",
    "    logreg_pca.fit(X_train_pca, y_train)\n",
    "    \n",
    "    cv_scores.append(np.mean(cross_val_score(logreg_pca, X_train_pca, y_train, cv=5)))\n",
    "\n",
    "pd.DataFrame(cv_scores, index=names[3:], columns=['CV Score'])"
   ]
  },
  {
   "cell_type": "code",
   "execution_count": 16,
   "metadata": {},
   "outputs": [
    {
     "name": "stdout",
     "output_type": "stream",
     "text": [
      "-0.011536880004071388\n"
     ]
    }
   ],
   "source": [
    "pca = PCA(n_components = 16).fit(X_train)\n",
    "    \n",
    "X_train_pca = pca.transform(X_train)\n",
    "X_test_pca = pca.transform(X_test)\n",
    "    \n",
    "logreg_pca = LogisticRegression(C=100000, solver='lbfgs', max_iter=10000)\n",
    "logreg_pca.fit(X_train_pca, y_train)\n",
    "\n",
    "dot_prod = np.dot(logreg_pca.coef_, pca.components_[:16])\n",
    "col_num = X_train.columns.values.tolist().index('M31523_at')\n",
    "coef_m = dot_prod.flatten()[col_num]\n",
    "\n",
    "print(coef_m)"
   ]
  },
  {
   "cell_type": "markdown",
   "metadata": {},
   "source": [
    "- interpretation of the above number as a -0.011536880004071388 change in log-odds of `cancer_type` with a 1 unit increase in the `M31523_at`\n",
    "- exponentiate the number to get a corresponding increase in odds. The change in odds is 0.988529415."
   ]
  },
  {
   "cell_type": "markdown",
   "metadata": {},
   "source": [
    "**3.3 Another way to evaluate models in a classification setting is through an Area-under-the-ROC-Curve (AUC). Briefly explain what the AUC and the ROC are trying to do and how this approach differs from evaluating models based on misclassification rate (as you have done thus far in this problem set).**"
   ]
  },
  {
   "cell_type": "markdown",
   "metadata": {},
   "source": [
    "*your answer here*\n",
    "\n",
    "- a discussion between type-1 and type-2 errors and there being a trade-off between these two types of errors\n",
    "- a high-level discussion of the ROC as a curve displaying the true positive rate on the y-axis and the false positive rate on the x-axis\n",
    "- AUC is the area under this curve. An ideal curve has a large area i.e. is close to the top-left corner\n",
    "- difference between AUC and misclassification rate could talk about an emphasis on type-1 vs type-2 errors instead of simply accuracy over all samples\n",
    "- This is a particular problem when our classes are imbalanced (i.e one class has way more points than the other class)"
   ]
  },
  {
   "cell_type": "markdown",
   "metadata": {},
   "source": [
    "**3.4 Evaluate all 6 predictive models (7 if you optionally found a better number of principal components in 3.2) seen in problems 1 and 3 via Area-under-the-ROC-Curve (AUC) on the test set. For the best model with the best AUC, plot the ROC. Decide an appropriate strategy for breaking ties, if there are any. Briefly interpret your plot.**"
   ]
  },
  {
   "cell_type": "code",
   "execution_count": 17,
   "metadata": {},
   "outputs": [
    {
     "data": {
      "text/html": [
       "<div>\n",
       "<style scoped>\n",
       "    .dataframe tbody tr th:only-of-type {\n",
       "        vertical-align: middle;\n",
       "    }\n",
       "\n",
       "    .dataframe tbody tr th {\n",
       "        vertical-align: top;\n",
       "    }\n",
       "\n",
       "    .dataframe thead th {\n",
       "        text-align: right;\n",
       "    }\n",
       "</style>\n",
       "<table border=\"1\" class=\"dataframe\">\n",
       "  <thead>\n",
       "    <tr style=\"text-align: right;\">\n",
       "      <th></th>\n",
       "      <th>AUC Score</th>\n",
       "    </tr>\n",
       "  </thead>\n",
       "  <tbody>\n",
       "    <tr>\n",
       "      <th>Multiple Logistic Regression</th>\n",
       "      <td>0.780186</td>\n",
       "    </tr>\n",
       "    <tr>\n",
       "      <th>Regularized Logistic Regression</th>\n",
       "      <td>0.860741</td>\n",
       "    </tr>\n",
       "    <tr>\n",
       "      <th>kNN</th>\n",
       "      <td>0.860741</td>\n",
       "    </tr>\n",
       "    <tr>\n",
       "      <th>2 components PCA</th>\n",
       "      <td>0.795806</td>\n",
       "    </tr>\n",
       "    <tr>\n",
       "      <th>16 components PCA</th>\n",
       "      <td>0.860741</td>\n",
       "    </tr>\n",
       "    <tr>\n",
       "      <th>232 components PCA</th>\n",
       "      <td>0.741225</td>\n",
       "    </tr>\n",
       "  </tbody>\n",
       "</table>\n",
       "</div>"
      ],
      "text/plain": [
       "                                 AUC Score\n",
       "Multiple Logistic Regression      0.780186\n",
       "Regularized Logistic Regression   0.860741\n",
       "kNN                               0.860741\n",
       "2 components PCA                  0.795806\n",
       "16 components PCA                 0.860741\n",
       "232 components PCA                0.741225"
      ]
     },
     "execution_count": 17,
     "metadata": {},
     "output_type": "execute_result"
    }
   ],
   "source": [
    "# your code here\n",
    "auc_scores = []\n",
    "for i, y_pred in enumerate(preds):\n",
    "    auc_scores.append(metrics.roc_auc_score(y_test, y_pred))\n",
    "    \n",
    "df_res = pd.DataFrame(auc_scores, index=names, columns=['AUC Score'])\n",
    "df_res"
   ]
  },
  {
   "cell_type": "code",
   "execution_count": 18,
   "metadata": {},
   "outputs": [
    {
     "data": {
      "image/png": "[encoded data removed]",
      "text/plain": [
       "<Figure size 864x432 with 1 Axes>"
      ]
     },
     "metadata": {
      "needs_background": "light"
     },
     "output_type": "display_data"
    }
   ],
   "source": [
    "# choosing 16 component PCA because it is the simplest model in terms of number of predictors\n",
    "model_ind = 4\n",
    "\n",
    "# for plotting the AUC curve\n",
    "preds_proba = []\n",
    "pca = PCA(n_components = 16).fit(X_train)\n",
    "X_test_pca = pca.transform(X_test)\n",
    "\n",
    "y_test_pred_logreg_pca = models[model_ind].predict_proba(X_test_pca)\n",
    "preds_proba.append(y_test_pred_logreg_pca)\n",
    "preds_proba = np.array(preds_proba[0])[:,1]\n",
    "\n",
    "fpr, tpr, thresholds = metrics.roc_curve(y_test, preds_proba)\n",
    "\n",
    "# plotting\n",
    "fig, ax = plt.subplots(figsize=(12,6))\n",
    "ax.plot(fpr, tpr, color='darkorange', label='ROC curve (area = {})'.format(np.round(auc_scores[model_ind],5)))\n",
    "ax.plot([0, 1], [0, 1], color='navy', linestyle='--')\n",
    "ax.set_xlim([0.0, 1.0])\n",
    "ax.set_ylim([0.0, 1.05])\n",
    "ax.set_xlabel('False Positive Rate')\n",
    "ax.set_ylabel('True Positive Rate')\n",
    "ax.set_title('Receiver operating characteristic')\n",
    "ax.legend();"
   ]
  },
  {
   "cell_type": "markdown",
   "metadata": {},
   "source": [
    "*your answer here*"
   ]
  },
  {
   "cell_type": "markdown",
   "metadata": {},
   "source": [
    "**3.5 Based on AUC, is there one clear stand-out winner or are a lot of models similar in prediction? If you were to predict real cancer patients, how would use these models to predict cancer type?**"
   ]
  },
  {
   "cell_type": "markdown",
   "metadata": {},
   "source": [
    "*your answer here*\n",
    "\n",
    "- There are a lot of similar models based on the AUC\n",
    "- You can use the model with the best AUC\n",
    "- In real life, one type of cancer may be more severe than the other type of cancer. The relative severity of the different cancer types could suggest that we are ok with one type of error over the other (type-1 error vs type-2 error)\n",
    "- bonus: use an ensemble of models to predict real cancer patients\n",
    "\n",
    "**Additional Information**\n",
    "\n",
    "Acute Lymphoblastic Leukemia (ALL):\n",
    "- About 98% of children with ALL go into remission within weeks after starting treatment.\n",
    "- About 90% of those children can be cured. Patients are considered cured after 10 years in remission.\n",
    "\n",
    "Acute Myeloid Leukemia (AML):\n",
    "- In general, children with AML are seen as lower risk than adults. \n",
    "- Around 85 to 90 percent of children with AML will go into remission after induction, according to the American Cancer Society. AML will return in some cases.  \n",
    "- The five-year-survival-rate for children with AML is 60 to 70 percent."
   ]
  },
  {
   "cell_type": "markdown",
   "metadata": {},
   "source": [
    "<div class='exercise'><b> Question 4: COMPAS [25 points] </b></div>\n",
    "\n",
    "This problem is unrelated to the first 3 problems, and steps through analyzing the COMPAS data set `compas.csv`.  The variables are roughly explained in the `compas_datadict.csv` file, and ProPublica's analysis is publically available here: https://github.com/propublica/compas-analysis.\n",
    "\n",
    "**4.1** Split the data into 80% training and 20% test stratified by race. Before splitting you may want to process the categorical predictors first so you don't have to do it separately in tain and test later.\n",
    "\n",
    "**4.2** Do a little EDA: explore what variables are related to race. Report 3 variables that appear to have significant differences between Caucasians and African Americans, and provide visuals and numerical summaries to support these chosen variables.\n",
    "\n",
    "**4.3** With respect to these 3 chosen variables, how could bias in the data or data collection be impacting or causing these differences?  Explain in 3-5 sentences.\n",
    "\n",
    "**4.4**. Build 2 seperate models to predict recidivism (`two_year_recid`) from these data (2 different 'classes' of models: $k$-NN, linear, logistic, etc.) and be sure to include race as a predictor. \n",
    "\n",
    "**4.5**. Refit the models in 4.4 without race as a predictor.  Report the overall misclassifcation rates, and compare the differences in false positive and false negative rates between Caucasians and African Americans in these models on the test set.  How do these compare to the models when race is included as a predictor?\n",
    "\n",
    "**4.6**. Given your exploration and modeling of the data, should a predictive tool be trusted to be unbiased even if it doesn’t explicitly use a variable such as race to predict future crime?  Why or why not?  Why is the bias still occurring or not occurring?  Explain in 3-6 sentences total."
   ]
  },
  {
   "cell_type": "markdown",
   "metadata": {},
   "source": [
    "<hr>\n",
    "\n",
    "### Solutions"
   ]
  },
  {
   "cell_type": "markdown",
   "metadata": {},
   "source": [
    "**4.1 Split the data into 80% training and 20% test stratified by race.  Before splitting you may want to process the categorical predictors first so you don't have to do it separately in tain and test later.**"
   ]
  },
  {
   "cell_type": "code",
   "execution_count": 19,
   "metadata": {},
   "outputs": [
    {
     "name": "stdout",
     "output_type": "stream",
     "text": [
      "Male      4997\n",
      "Female    1175\n",
      "Name: sex, dtype: int64\n",
      "(6172, 23)\n"
     ]
    },
    {
     "data": {
      "text/html": [
       "<div>\n",
       "<style scoped>\n",
       "    .dataframe tbody tr th:only-of-type {\n",
       "        vertical-align: middle;\n",
       "    }\n",
       "\n",
       "    .dataframe tbody tr th {\n",
       "        vertical-align: top;\n",
       "    }\n",
       "\n",
       "    .dataframe thead th {\n",
       "        text-align: right;\n",
       "    }\n",
       "</style>\n",
       "<table border=\"1\" class=\"dataframe\">\n",
       "  <thead>\n",
       "    <tr style=\"text-align: right;\">\n",
       "      <th></th>\n",
       "      <th>age</th>\n",
       "      <th>c_charge_degree</th>\n",
       "      <th>c_charge_desc</th>\n",
       "      <th>race</th>\n",
       "      <th>score_text</th>\n",
       "      <th>sex</th>\n",
       "      <th>priors_count</th>\n",
       "      <th>juv_fel_count</th>\n",
       "      <th>juv_misd_count</th>\n",
       "      <th>juv_other_count</th>\n",
       "      <th>decile_score</th>\n",
       "      <th>two_year_recid</th>\n",
       "      <th>length_of_stay</th>\n",
       "      <th>priors_1</th>\n",
       "      <th>priors_234</th>\n",
       "      <th>priors_5plus</th>\n",
       "      <th>juv_fel_1plus</th>\n",
       "      <th>juv_misd_1plus</th>\n",
       "      <th>juv_other_1plus</th>\n",
       "      <th>charge_any_drug</th>\n",
       "      <th>charge_any_violence_aggression</th>\n",
       "      <th>charge_any_theft</th>\n",
       "      <th>length_of_stay_thresh</th>\n",
       "    </tr>\n",
       "  </thead>\n",
       "  <tbody>\n",
       "    <tr>\n",
       "      <th>0</th>\n",
       "      <td>69</td>\n",
       "      <td>F</td>\n",
       "      <td>Aggravated Assault w/Firearm</td>\n",
       "      <td>Other</td>\n",
       "      <td>Low</td>\n",
       "      <td>1</td>\n",
       "      <td>0</td>\n",
       "      <td>0</td>\n",
       "      <td>0</td>\n",
       "      <td>0</td>\n",
       "      <td>1</td>\n",
       "      <td>0</td>\n",
       "      <td>1</td>\n",
       "      <td>0</td>\n",
       "      <td>0</td>\n",
       "      <td>0</td>\n",
       "      <td>0</td>\n",
       "      <td>0</td>\n",
       "      <td>0</td>\n",
       "      <td>0</td>\n",
       "      <td>1</td>\n",
       "      <td>0</td>\n",
       "      <td>1</td>\n",
       "    </tr>\n",
       "    <tr>\n",
       "      <th>1</th>\n",
       "      <td>34</td>\n",
       "      <td>F</td>\n",
       "      <td>Felony Battery w/Prior Convict</td>\n",
       "      <td>African-American</td>\n",
       "      <td>Low</td>\n",
       "      <td>1</td>\n",
       "      <td>0</td>\n",
       "      <td>0</td>\n",
       "      <td>0</td>\n",
       "      <td>0</td>\n",
       "      <td>3</td>\n",
       "      <td>1</td>\n",
       "      <td>10</td>\n",
       "      <td>0</td>\n",
       "      <td>0</td>\n",
       "      <td>0</td>\n",
       "      <td>0</td>\n",
       "      <td>0</td>\n",
       "      <td>0</td>\n",
       "      <td>0</td>\n",
       "      <td>1</td>\n",
       "      <td>0</td>\n",
       "      <td>10</td>\n",
       "    </tr>\n",
       "    <tr>\n",
       "      <th>2</th>\n",
       "      <td>24</td>\n",
       "      <td>F</td>\n",
       "      <td>Possession of Cocaine</td>\n",
       "      <td>African-American</td>\n",
       "      <td>Low</td>\n",
       "      <td>1</td>\n",
       "      <td>4</td>\n",
       "      <td>0</td>\n",
       "      <td>0</td>\n",
       "      <td>1</td>\n",
       "      <td>4</td>\n",
       "      <td>1</td>\n",
       "      <td>1</td>\n",
       "      <td>0</td>\n",
       "      <td>1</td>\n",
       "      <td>0</td>\n",
       "      <td>0</td>\n",
       "      <td>0</td>\n",
       "      <td>1</td>\n",
       "      <td>1</td>\n",
       "      <td>0</td>\n",
       "      <td>0</td>\n",
       "      <td>1</td>\n",
       "    </tr>\n",
       "    <tr>\n",
       "      <th>3</th>\n",
       "      <td>44</td>\n",
       "      <td>M</td>\n",
       "      <td>Battery</td>\n",
       "      <td>Other</td>\n",
       "      <td>Low</td>\n",
       "      <td>1</td>\n",
       "      <td>0</td>\n",
       "      <td>0</td>\n",
       "      <td>0</td>\n",
       "      <td>0</td>\n",
       "      <td>1</td>\n",
       "      <td>0</td>\n",
       "      <td>1</td>\n",
       "      <td>0</td>\n",
       "      <td>0</td>\n",
       "      <td>0</td>\n",
       "      <td>0</td>\n",
       "      <td>0</td>\n",
       "      <td>0</td>\n",
       "      <td>0</td>\n",
       "      <td>1</td>\n",
       "      <td>0</td>\n",
       "      <td>1</td>\n",
       "    </tr>\n",
       "    <tr>\n",
       "      <th>4</th>\n",
       "      <td>41</td>\n",
       "      <td>F</td>\n",
       "      <td>Possession Burglary Tools</td>\n",
       "      <td>Caucasian</td>\n",
       "      <td>Medium</td>\n",
       "      <td>1</td>\n",
       "      <td>14</td>\n",
       "      <td>0</td>\n",
       "      <td>0</td>\n",
       "      <td>0</td>\n",
       "      <td>6</td>\n",
       "      <td>1</td>\n",
       "      <td>6</td>\n",
       "      <td>0</td>\n",
       "      <td>0</td>\n",
       "      <td>1</td>\n",
       "      <td>0</td>\n",
       "      <td>0</td>\n",
       "      <td>0</td>\n",
       "      <td>0</td>\n",
       "      <td>0</td>\n",
       "      <td>1</td>\n",
       "      <td>6</td>\n",
       "    </tr>\n",
       "  </tbody>\n",
       "</table>\n",
       "</div>"
      ],
      "text/plain": [
       "   age c_charge_degree                   c_charge_desc              race  \\\n",
       "0   69               F    Aggravated Assault w/Firearm             Other   \n",
       "1   34               F  Felony Battery w/Prior Convict  African-American   \n",
       "2   24               F           Possession of Cocaine  African-American   \n",
       "3   44               M                         Battery             Other   \n",
       "4   41               F       Possession Burglary Tools         Caucasian   \n",
       "\n",
       "  score_text  sex  priors_count  juv_fel_count  juv_misd_count  \\\n",
       "0        Low    1             0              0               0   \n",
       "1        Low    1             0              0               0   \n",
       "2        Low    1             4              0               0   \n",
       "3        Low    1             0              0               0   \n",
       "4     Medium    1            14              0               0   \n",
       "\n",
       "   juv_other_count  decile_score  two_year_recid  length_of_stay  priors_1  \\\n",
       "0                0             1               0               1         0   \n",
       "1                0             3               1              10         0   \n",
       "2                1             4               1               1         0   \n",
       "3                0             1               0               1         0   \n",
       "4                0             6               1               6         0   \n",
       "\n",
       "   priors_234  priors_5plus  juv_fel_1plus  juv_misd_1plus  juv_other_1plus  \\\n",
       "0           0             0              0               0                0   \n",
       "1           0             0              0               0                0   \n",
       "2           1             0              0               0                1   \n",
       "3           0             0              0               0                0   \n",
       "4           0             1              0               0                0   \n",
       "\n",
       "   charge_any_drug  charge_any_violence_aggression  charge_any_theft  \\\n",
       "0                0                               1                 0   \n",
       "1                0                               1                 0   \n",
       "2                1                               0                 0   \n",
       "3                0                               1                 0   \n",
       "4                0                               0                 1   \n",
       "\n",
       "   length_of_stay_thresh  \n",
       "0                      1  \n",
       "1                     10  \n",
       "2                      1  \n",
       "3                      1  \n",
       "4                      6  "
      ]
     },
     "metadata": {},
     "output_type": "display_data"
    }
   ],
   "source": [
    "compas_df = pd.read_csv('data/compas.csv')\n",
    "\n",
    "# your code here\n",
    "print(compas_df['sex'].value_counts())\n",
    "compas_df['sex'] = (compas_df['sex'] == 'Male')*1\n",
    "print(compas_df.shape)\n",
    "display(compas_df.head())"
   ]
  },
  {
   "cell_type": "markdown",
   "metadata": {},
   "source": [
    "- One-hot encode some categorical predictors here such as sex"
   ]
  },
  {
   "cell_type": "markdown",
   "metadata": {},
   "source": [
    "**4.2 Do a little EDA: explore what variables are related to race. Report 3 variables that appear to have significant differences between Caucasians and African Americans, and provide visuals and numerical summaries to support these chosen variables.**"
   ]
  },
  {
   "cell_type": "code",
   "execution_count": 20,
   "metadata": {},
   "outputs": [
    {
     "name": "stdout",
     "output_type": "stream",
     "text": [
      "Chosen Columns: ['decile_score', 'priors_count', 'age']\n"
     ]
    }
   ],
   "source": [
    "# your code here\n",
    "aa_df = compas_df[compas_df['race'] == 'African-American']\n",
    "cc_df = compas_df[compas_df['race'] == 'Caucasian']\n",
    "\n",
    "cols = aa_df.select_dtypes(include=np.number).columns.tolist()\n",
    "p_vals = []\n",
    "\n",
    "for i, col in enumerate(cols):\n",
    "    aa = np.array(aa_df[col]).flatten()\n",
    "    cc = np.array(cc_df[col]).flatten()\n",
    "    t = ttest_ind(aa, cc, equal_var=False)\n",
    "    p_val = t.pvalue\n",
    "    p_vals.append(p_val)\n",
    "\n",
    "p_vals = np.array(p_vals)\n",
    "argsorted_pvals = np.argsort(p_vals)[:3]\n",
    "chosen_cols = [cols[i] for i in argsorted_pvals]\n",
    "print('Chosen Columns: {}'.format(chosen_cols))"
   ]
  },
  {
   "cell_type": "code",
   "execution_count": 21,
   "metadata": {},
   "outputs": [
    {
     "data": {
      "image/png": "[encoded data removed]",
      "text/plain": [
       "<Figure size 1440x432 with 3 Axes>"
      ]
     },
     "metadata": {
      "needs_background": "light"
     },
     "output_type": "display_data"
    }
   ],
   "source": [
    "fig, ax = plt.subplots(nrows=1, ncols=3, figsize=(20, 6))\n",
    "ax = ax.ravel()\n",
    "\n",
    "for i, col in enumerate(chosen_cols):\n",
    "    aa = np.array(aa_df[col]).flatten()\n",
    "    cc = np.array(cc_df[col]).flatten()\n",
    "    ax[i].hist(aa, label='African American', alpha=0.7, density=True)\n",
    "    ax[i].hist(cc, label='Caucasian', alpha=0.7, density=True)\n",
    "    ax[i].set_title('{}. P-value: {}'.format(col, p_val), fontsize=15)\n",
    "    ax[i].legend()\n",
    "fig.tight_layout()"
   ]
  },
  {
   "cell_type": "markdown",
   "metadata": {},
   "source": [
    "- these histograms need to be normalized as the counts are different\n",
    "\n",
    "**A CAVEAT**\n",
    "\n",
    "A t-test is not the most suitable test for all these variables as they are not even close to being normally distributed. Using the coefficients of logistic regression (one for each race) and then determining differences between these models for the two races is another reasonable approach. Using groupBy in pandas and comparing proportions for binary predictors is also an acceptable approach. "
   ]
  },
  {
   "cell_type": "markdown",
   "metadata": {},
   "source": [
    "**4.3 With respect to these 3 chosen variables, how could bias in the data or data collection be impacting or causing these differences? Explain in 3-5 sentences.**"
   ]
  },
  {
   "cell_type": "markdown",
   "metadata": {},
   "source": [
    "*your answer here*\n",
    "\n",
    "- bias in data collection: people added to the dataset for minor infractions as a result of their race i.e. perhaps through racial profiling in the system"
   ]
  },
  {
   "cell_type": "markdown",
   "metadata": {},
   "source": [
    "**4.4. Build 2 seperate models to predict recidivism (`two_year_recid`) from these data (2 different 'classes' of models:  $k$-NN, linear, logistic, etc.) and be sure to include race as a predictor.**"
   ]
  },
  {
   "cell_type": "code",
   "execution_count": 22,
   "metadata": {},
   "outputs": [
    {
     "name": "stdout",
     "output_type": "stream",
     "text": [
      "(4937, 24) (1235, 24)\n",
      "(4937, 23) (1235, 23) (4937,) (1235,)\n"
     ]
    }
   ],
   "source": [
    "# your code here\n",
    "\n",
    "one_hot_df = pd.get_dummies(compas_df['race'], prefix='race', drop_first=True)\n",
    "compas_race_df = pd.concat([compas_df.drop('race', axis=1), one_hot_df], axis=1)\n",
    "\n",
    "# drop the object types\n",
    "compas_race_df = compas_race_df.drop(['c_charge_degree', 'c_charge_desc', 'score_text'], axis=1)\n",
    "\n",
    "data_train, data_test = train_test_split(compas_race_df, train_size=0.8, stratify=compas_df['race'], \n",
    "                                         random_state=109)\n",
    "\n",
    "y_train = data_train['two_year_recid']\n",
    "X_train = data_train.drop(['two_year_recid'], axis=1)\n",
    "\n",
    "y_test = data_test['two_year_recid']\n",
    "X_test = data_test.drop(['two_year_recid'], axis=1)\n",
    "\n",
    "print(data_train.shape, data_test.shape)\n",
    "print(X_train.shape, X_test.shape, y_train.shape, y_test.shape)"
   ]
  },
  {
   "cell_type": "code",
   "execution_count": 23,
   "metadata": {},
   "outputs": [
    {
     "name": "stdout",
     "output_type": "stream",
     "text": [
      "Training set accuracy for log reg =  0.6963743163864695\n",
      "Test set accuracy for log reg =  0.6842105263157895\n",
      "Training set accuracy for knn =  0.7607859023698602\n",
      "Test set accuracy for knn =  0.6356275303643725\n"
     ]
    }
   ],
   "source": [
    "logreg_model_recid = LogisticRegression(C=100000, solver = \"lbfgs\", max_iter=10000, random_state=109)\n",
    "logreg_model_recid.fit(X_train, y_train)\n",
    "\n",
    "y_pred_logreg_train = logreg_model_recid.predict(X_train)\n",
    "y_pred_logreg_test = logreg_model_recid.predict(X_test)\n",
    "\n",
    "print('Training set accuracy for log reg = ', accuracy_score(y_train, y_pred_logreg_train))\n",
    "print('Test set accuracy for log reg = ', accuracy_score(y_test, y_pred_logreg_test))\n",
    "\n",
    "knn_model_recid = KNeighborsClassifier(5).fit(X_train, y_train)\n",
    "\n",
    "y_pred_knn_train = knn_model_recid.predict(X_train)\n",
    "y_pred_knn_test = knn_model_recid.predict(X_test)\n",
    "\n",
    "print('Training set accuracy for knn = ', accuracy_score(y_train, y_pred_knn_train))\n",
    "print('Test set accuracy for knn = ', accuracy_score(y_test, y_pred_knn_test))"
   ]
  },
  {
   "cell_type": "markdown",
   "metadata": {},
   "source": [
    "**4.5. Refit the models in 4.4 without race as a predictor. Report the overall misclassifcation rates, and compare the differences in false positive and false negative rates between Caucasians and African Americans in these models on the test set. How do these compare to the models when race is included as a predictor?**"
   ]
  },
  {
   "cell_type": "code",
   "execution_count": 24,
   "metadata": {},
   "outputs": [
    {
     "name": "stdout",
     "output_type": "stream",
     "text": [
      "(4937, 19) (1235, 19)\n",
      "(4937, 18) (1235, 18) (4937,) (1235,)\n"
     ]
    }
   ],
   "source": [
    "# your code here\n",
    "\n",
    "# drop the object types and race\n",
    "compas_norace_df = compas_df.drop(['c_charge_degree', 'c_charge_desc', 'score_text', 'race'], axis=1)\n",
    "data_train_norace, data_test_norace = train_test_split(compas_norace_df, random_state=109,\n",
    "                                                       train_size=0.8, stratify=compas_df['race'])\n",
    "\n",
    "# re-splitting by the same random state and the same stratification so we get the same results as the \n",
    "# split for the previous sub-part\n",
    "y_train_norace = data_train_norace['two_year_recid']\n",
    "X_train_norace = data_train_norace.drop(['two_year_recid'], axis=1)\n",
    "\n",
    "y_test_norace = data_test_norace['two_year_recid']\n",
    "X_test_norace = data_test_norace.drop(['two_year_recid'], axis=1)\n",
    "\n",
    "print(data_train_norace.shape, data_test_norace.shape)\n",
    "print(X_train_norace.shape, X_test_norace.shape, y_train_norace.shape, y_test_norace.shape)"
   ]
  },
  {
   "cell_type": "code",
   "execution_count": 25,
   "metadata": {},
   "outputs": [
    {
     "name": "stdout",
     "output_type": "stream",
     "text": [
      "Training set accuracy for log reg (no race) =  0.6959692120721086\n",
      "Test set accuracy for log reg (no race) =  0.6874493927125506\n",
      "Training set accuracy for knn (no race) =  0.7611910066842212\n",
      "Test set accuracy for knn (no race) =  0.6388663967611335\n"
     ]
    }
   ],
   "source": [
    "logreg_model_recid_norace = LogisticRegression(C=100000, solver = \"lbfgs\", max_iter=10000, random_state=109)\n",
    "logreg_model_recid_norace.fit(X_train_norace, y_train_norace)\n",
    "\n",
    "y_pred_logreg_train_norace = logreg_model_recid_norace.predict(X_train_norace)\n",
    "y_pred_logreg_test_norace = logreg_model_recid_norace.predict(X_test_norace)\n",
    "\n",
    "print('Training set accuracy for log reg (no race) = ',accuracy_score(y_train_norace, y_pred_logreg_train_norace))\n",
    "print('Test set accuracy for log reg (no race) = ',accuracy_score(y_test_norace, y_pred_logreg_test_norace))\n",
    "\n",
    "knn_model_recid_norace = KNeighborsClassifier(5).fit(X_train_norace, y_train_norace)\n",
    "\n",
    "y_pred_knn_train_norace = knn_model_recid_norace.predict(X_train_norace)\n",
    "y_pred_knn_test_norace = knn_model_recid_norace.predict(X_test_norace)\n",
    "\n",
    "print('Training set accuracy for knn (no race) = ', accuracy_score(y_train_norace, y_pred_knn_train_norace))\n",
    "print('Test set accuracy for knn (no race) = ', accuracy_score(y_test_norace, y_pred_knn_test_norace))"
   ]
  },
  {
   "cell_type": "code",
   "execution_count": 26,
   "metadata": {},
   "outputs": [
    {
     "name": "stdout",
     "output_type": "stream",
     "text": [
      "Confusion Matrix for Logistic Regression Model with Race: African Americans\n",
      "[[258 112]\n",
      " [129 238]]\n",
      "Confusion Matrix for Logistic Regression Model with Race: Caucasian\n",
      "[[220  44]\n",
      " [ 77  80]]\n",
      "Confusion Matrix for kNN Model with Race: African Americans\n",
      "[[234 136]\n",
      " [139 228]]\n",
      "Confusion Matrix for kNN Model with Race: Caucasian\n",
      "[[203  61]\n",
      " [ 84  73]]\n"
     ]
    }
   ],
   "source": [
    "X_test = X_test.reset_index()\n",
    "aa_ind = X_test[(X_test['race_Asian'] == 0) & (X_test['race_Caucasian'] == 0) \n",
    "                & (X_test['race_Other'] == 0) & (X_test['race_Native American'] == 0)].index.tolist()\n",
    "\n",
    "aa_ind = np.array(aa_ind)\n",
    "cc_ind = np.array(X_test[X_test['race_Caucasian'] == 1].index.tolist())\n",
    "\n",
    "# false positives and true positives on model with race\n",
    "print('Confusion Matrix for Logistic Regression Model with Race: African Americans')\n",
    "print(metrics.confusion_matrix(np.array(y_test)[aa_ind], np.array(y_pred_logreg_test)[aa_ind]))\n",
    "\n",
    "print('Confusion Matrix for Logistic Regression Model with Race: Caucasian')\n",
    "print(metrics.confusion_matrix(np.array(y_test)[cc_ind], np.array(y_pred_logreg_test)[cc_ind]))\n",
    "\n",
    "print('Confusion Matrix for kNN Model with Race: African Americans')\n",
    "print(metrics.confusion_matrix(np.array(y_test)[aa_ind], np.array(y_pred_knn_test)[aa_ind]))\n",
    "\n",
    "print('Confusion Matrix for kNN Model with Race: Caucasian')\n",
    "print(metrics.confusion_matrix(np.array(y_test)[cc_ind], np.array(y_pred_knn_test)[cc_ind]))"
   ]
  },
  {
   "cell_type": "code",
   "execution_count": 27,
   "metadata": {},
   "outputs": [
    {
     "name": "stdout",
     "output_type": "stream",
     "text": [
      "Confusion Matrix for Logistic Regression Model with Race: African Americans\n",
      "[[259 111]\n",
      " [126 241]]\n",
      "Confusion Matrix for Logistic Regression Model with Race: Caucasian\n",
      "[[221  43]\n",
      " [ 80  77]]\n",
      "Confusion Matrix for kNN Model with Race: African Americans\n",
      "[[237 133]\n",
      " [135 232]]\n",
      "Confusion Matrix for kNN Model with Race: Caucasian\n",
      "[[199  65]\n",
      " [ 84  73]]\n"
     ]
    }
   ],
   "source": [
    "# false positives and true positives on model without race\n",
    "print('Confusion Matrix for Logistic Regression Model with Race: African Americans')\n",
    "print(metrics.confusion_matrix(np.array(y_test)[aa_ind], np.array(y_pred_logreg_test_norace)[aa_ind]))\n",
    "\n",
    "print('Confusion Matrix for Logistic Regression Model with Race: Caucasian')\n",
    "print(metrics.confusion_matrix(np.array(y_test)[cc_ind], np.array(y_pred_logreg_test_norace)[cc_ind]))\n",
    "\n",
    "print('Confusion Matrix for kNN Model with Race: African Americans')\n",
    "print(metrics.confusion_matrix(np.array(y_test)[aa_ind], np.array(y_pred_knn_test_norace)[aa_ind]))\n",
    "\n",
    "print('Confusion Matrix for kNN Model with Race: Caucasian')\n",
    "print(metrics.confusion_matrix(np.array(y_test)[cc_ind], np.array(y_pred_knn_test_norace)[cc_ind]))"
   ]
  },
  {
   "cell_type": "markdown",
   "metadata": {},
   "source": [
    "- Rates are very similar to the model when race was included\n",
    "- There is still a difference in FPR and TPR between the two races even when race is not explicitly included in the model, which indicates that a lot of predictors are related to race."
   ]
  },
  {
   "cell_type": "markdown",
   "metadata": {},
   "source": [
    "**4.6. Given your exploration and modeling of the data, should a predictive tool be trusted to be unbiased even if it doesn’t explicitly use a variable such as race to predict future crime?  Why or why not?  Why is the bias still occurring or not occurring?  Explain in 3-6 sentences total.**"
   ]
  },
  {
   "cell_type": "markdown",
   "metadata": {},
   "source": [
    "*your answer here*\n",
    "\n",
    "- Lots of variables correlate with race. Removing race does not remove the effects of race from the model.\n",
    "- Omitting race does not solve the problem of false-positive rates and false-negative rates being different for the two different races in question"
   ]
  },
  {
   "cell_type": "markdown",
   "metadata": {},
   "source": [
    "---"
   ]
  }
 ],
 "metadata": {
  "kernelspec": {
   "display_name": "Python 3",
   "language": "python",
   "name": "python3"
  },
  "language_info": {
   "codemirror_mode": {
    "name": "ipython",
    "version": 3
   },
   "file_extension": ".py",
   "mimetype": "text/x-python",
   "name": "python",
   "nbconvert_exporter": "python",
   "pygments_lexer": "ipython3",
   "version": "3.7.4"
  }
 },
 "nbformat": 4,
 "nbformat_minor": 2
}
